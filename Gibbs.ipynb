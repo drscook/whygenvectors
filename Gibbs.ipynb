{
 "cells": [
  {
   "cell_type": "code",
   "execution_count": 10,
   "metadata": {
    "scrolled": false
   },
   "outputs": [
    {
     "data": {
      "application/vnd.jupyter.widget-view+json": {
       "model_id": "c4a673f56fab4b158b51c1f9528d1860",
       "version_major": 2,
       "version_minor": 0
      },
      "text/html": [
       "<p>Failed to display Jupyter Widget of type <code>HBox</code>.</p>\n",
       "<p>\n",
       "  If you're reading this message in the Jupyter Notebook or JupyterLab Notebook, it may mean\n",
       "  that the widgets JavaScript is still loading. If this message persists, it\n",
       "  likely means that the widgets JavaScript library is either not installed or\n",
       "  not enabled. See the <a href=\"https://ipywidgets.readthedocs.io/en/stable/user_install.html\">Jupyter\n",
       "  Widgets Documentation</a> for setup instructions.\n",
       "</p>\n",
       "<p>\n",
       "  If you're reading this message in another frontend (for example, a static\n",
       "  rendering on GitHub or <a href=\"https://nbviewer.jupyter.org/\">NBViewer</a>),\n",
       "  it may mean that your frontend doesn't currently support widgets.\n",
       "</p>\n"
      ],
      "text/plain": [
       "HBox(children=(VBox(children=(IntSlider(value=1, max=200, min=1), Play(value=0, interval=20, max=200))), Output()))"
      ]
     },
     "metadata": {},
     "output_type": "display_data"
    }
   ],
   "source": [
    "%matplotlib inline\n",
    "import numpy as np\n",
    "import matplotlib.pyplot as plt\n",
    "from scipy.integrate import quad\n",
    "import ipywidgets as widgets\n",
    "\n",
    "a = 0\n",
    "b = 16\n",
    "\n",
    "c = (a + b) / 2\n",
    "L = (b - a) / 2\n",
    "\n",
    "# def f(x):\n",
    "#     return c - np.abs(x-c)\n",
    "\n",
    "def f(x):\n",
    "    return np.floor(x / L) % 2\n",
    "\n",
    "\n",
    "x = np.linspace(a, b, 10000)\n",
    "def C(n, x):\n",
    "    return np.cos(n * np.pi / L * x)\n",
    "\n",
    "def S(n, x):\n",
    "    return np.sin(n * np.pi / L * x)\n",
    "\n",
    "def get_A(f, n):\n",
    "    g = lambda x: f(x) * C(n, x)\n",
    "    return quad(g, a, b)[0] / L\n",
    "\n",
    "def get_B(f, n):\n",
    "    g = lambda x: f(x) * S(n, x)\n",
    "    return quad(g, a, b)[0] / L\n",
    "\n",
    "def fourier(N):\n",
    "    A = [get_A(f, n) for n in range(N)]\n",
    "    A[0] /= 2\n",
    "    B = [get_B(f, n) for n in range(N)]\n",
    "    y = f(x)\n",
    "    z = np.sum([A[n] * C(n, x) + B[n] * S(n, x) for n in range(N)], axis=0)\n",
    "    plt.plot(x, y, color='red')\n",
    "    plt.plot(x, z, color='blue')\n",
    "    plt.show()\n",
    "    return A, B\n",
    "\n",
    "max_terms = 200\n",
    "terms = widgets.IntSlider(min=1, max=max_terms, value=1, readout=True)\n",
    "play_button = widgets.Play(min=0, max=max_terms, interval=20, continuous_update=False)\n",
    "widgets.jslink((terms, 'value'), (play_button, 'value'))\n",
    "\n",
    "img = widgets.interactive_output(fourier, {'N':terms})\n",
    "display(widgets.HBox([widgets.VBox([terms, play_button]), img]))\n"
   ]
  },
  {
   "cell_type": "code",
   "execution_count": 6,
   "metadata": {
    "scrolled": false
   },
   "outputs": [
    {
     "data": {
      "application/vnd.jupyter.widget-view+json": {
       "model_id": "5fb4c3e685f2459bae4e064c554a501a",
       "version_major": 2,
       "version_minor": 0
      },
      "text/html": [
       "<p>Failed to display Jupyter Widget of type <code>HBox</code>.</p>\n",
       "<p>\n",
       "  If you're reading this message in the Jupyter Notebook or JupyterLab Notebook, it may mean\n",
       "  that the widgets JavaScript is still loading. If this message persists, it\n",
       "  likely means that the widgets JavaScript library is either not installed or\n",
       "  not enabled. See the <a href=\"https://ipywidgets.readthedocs.io/en/stable/user_install.html\">Jupyter\n",
       "  Widgets Documentation</a> for setup instructions.\n",
       "</p>\n",
       "<p>\n",
       "  If you're reading this message in another frontend (for example, a static\n",
       "  rendering on GitHub or <a href=\"https://nbviewer.jupyter.org/\">NBViewer</a>),\n",
       "  it may mean that your frontend doesn't currently support widgets.\n",
       "</p>\n"
      ],
      "text/plain": [
       "HBox(children=(VBox(children=(IntSlider(value=1, max=5, min=1), IntSlider(value=1, max=20, min=1), Play(value=0, interval=20, max=20))), Output()))"
      ]
     },
     "metadata": {},
     "output_type": "display_data"
    }
   ],
   "source": [
    "%matplotlib inline\n",
    "import numpy as np\n",
    "import matplotlib.pyplot as plt\n",
    "from scipy.integrate import quad\n",
    "import ipywidgets as widgets\n",
    "\n",
    "a = 0\n",
    "b = 2\n",
    "\n",
    "c = (a + b) / 2\n",
    "L = b - a\n",
    "\n",
    "x = np.linspace(a, b, 100)\n",
    "def C(n, x):\n",
    "    return np.cos(n * np.pi / L * x)\n",
    "\n",
    "def S(n, x):\n",
    "    return np.sin(n * np.pi / L * x)\n",
    "\n",
    "def get_A(f, n):\n",
    "    g = lambda x: f(x) * C(n, x)\n",
    "    return quad(g, a, b)[0] / L\n",
    "\n",
    "def get_B(f, n):\n",
    "    g = lambda x: f(x) * S(n, x)\n",
    "    return quad(g, a, b)[0] / L\n",
    "\n",
    "def fourier(N, k):\n",
    "#     def f(x):\n",
    "#         return np.floor(x * 2 * k)\n",
    "    def f(x):\n",
    "        return c - np.abs(x-c)\n",
    "    A = [get_A(f, n) for n in range(N)]\n",
    "    A[0] /= 2\n",
    "    B = [get_B(f, n) for n in range(N)]\n",
    "    y = f(x)\n",
    "    z = np.sum([A[n] * C(n, x) + B[n] * S(n, x) for n in range(N)], axis=0)\n",
    "    plt.plot(x, y, color='red')\n",
    "    plt.plot(x, z, color='blue')\n",
    "    plt.show()\n",
    "    return A, B\n",
    "\n",
    "max_terms = 20\n",
    "cycles = widgets.IntSlider(min=1, max=5, value=1, readout=True)\n",
    "terms = widgets.IntSlider(min=1, max=max_terms, value=1, readout=True)\n",
    "play_button = widgets.Play(min=0, max=max_terms, interval=20, continuous_update=False)\n",
    "widgets.jslink((terms, 'value'), (play_button, 'value'))\n",
    "\n",
    "img = widgets.interactive_output(fourier, {'N':terms, 'k':cycles})\n",
    "display(widgets.HBox([widgets.VBox([cycles, terms, play_button]), img]))\n"
   ]
  }
 ],
 "metadata": {
  "kernelspec": {
   "display_name": "Python 3",
   "language": "python",
   "name": "python3"
  },
  "language_info": {
   "codemirror_mode": {
    "name": "ipython",
    "version": 3
   },
   "file_extension": ".py",
   "mimetype": "text/x-python",
   "name": "python",
   "nbconvert_exporter": "python",
   "pygments_lexer": "ipython3",
   "version": "3.6.4"
  }
 },
 "nbformat": 4,
 "nbformat_minor": 2
}
